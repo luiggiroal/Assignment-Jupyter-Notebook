{
 "cells": [
  {
   "cell_type": "markdown",
   "id": "3f2e4040-99fa-405a-9444-643ac5bd7e84",
   "metadata": {},
   "source": [
    "# Data Science Tools and Ecosystem"
   ]
  },
  {
   "cell_type": "markdown",
   "id": "724dedb6-7aa8-4401-9b3d-8cab8dd8cd24",
   "metadata": {},
   "source": [
    "In this notebook, Data Science Tools and Ecosystem are summarized."
   ]
  },
  {
   "cell_type": "markdown",
   "id": "7277b1d8-70cc-4cee-9982-6251f5cb98b5",
   "metadata": {},
   "source": [
    "**Objectives:**\n",
    "- List of popular languages for Data Science\n",
    "- List of the commonly libraries used by data scientists\n",
    "- Data Science tools\n",
    "- Evaluation of arithmetic expressions in Python"
   ]
  },
  {
   "cell_type": "markdown",
   "id": "941e18e1-37e6-441c-80ac-7117d1dc007e",
   "metadata": {},
   "source": [
    "Some of the popular languages that Data Scientists use are:\n",
    "1. Python\n",
    "2. R\n",
    "3. Java\n",
    "4. Julia"
   ]
  },
  {
   "cell_type": "markdown",
   "id": "c83c3747-c9be-42ba-8efa-eafc86f08e24",
   "metadata": {},
   "source": [
    "Some of the commonly used libraries used by Data Scientists include:\n",
    "1. Pandas (Python)\n",
    "2. NumPy (Python)\n",
    "3. Matplotlib (Python)\n",
    "4. ggplot2 (R)"
   ]
  },
  {
   "cell_type": "markdown",
   "id": "a96d0846-572c-4c03-a653-429b4d2a4f33",
   "metadata": {},
   "source": [
    "| Data Science Tools |\n",
    "| - |\n",
    "| RStudio |\n",
    "| Jupyter Notebook / JupyterLab |\n",
    "| Spyder |"
   ]
  },
  {
   "cell_type": "markdown",
   "id": "51095cb0-470b-4e8b-8883-bd5dd747cd32",
   "metadata": {},
   "source": [
    "### Below are a few examples of evaluating arithmetic expressions in Python"
   ]
  },
  {
   "cell_type": "code",
   "execution_count": 1,
   "id": "2445d506-770f-434f-9e83-cf5825a0dbe3",
   "metadata": {},
   "outputs": [
    {
     "data": {
      "text/plain": [
       "17"
      ]
     },
     "execution_count": 1,
     "metadata": {},
     "output_type": "execute_result"
    }
   ],
   "source": [
    "# This a simple arithmetic expression to mutiply then add integers\n",
    "(3 * 4) + 5"
   ]
  },
  {
   "cell_type": "code",
   "execution_count": 2,
   "id": "e5b91841-f078-4e00-98a0-636d0cc813b5",
   "metadata": {},
   "outputs": [
    {
     "data": {
      "text/plain": [
       "3.3333333333333335"
      ]
     },
     "execution_count": 2,
     "metadata": {},
     "output_type": "execute_result"
    }
   ],
   "source": [
    "# This will convert 200 minutes to hours by diving by 60\n",
    "200 / 60"
   ]
  },
  {
   "cell_type": "markdown",
   "id": "7a39ce79-fe3d-4a45-8b2d-2838cd5a4878",
   "metadata": {},
   "source": [
    "## Author\n",
    "Luiggi Rodríguez Aliaga"
   ]
  }
 ],
 "metadata": {
  "kernelspec": {
   "display_name": "Python 3 (ipykernel)",
   "language": "python",
   "name": "python3"
  },
  "language_info": {
   "codemirror_mode": {
    "name": "ipython",
    "version": 3
   },
   "file_extension": ".py",
   "mimetype": "text/x-python",
   "name": "python",
   "nbconvert_exporter": "python",
   "pygments_lexer": "ipython3",
   "version": "3.11.5"
  }
 },
 "nbformat": 4,
 "nbformat_minor": 5
}
